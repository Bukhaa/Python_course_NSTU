{
 "cells": [
  {
   "cell_type": "markdown",
   "id": "61e36c8f-28d8-47e8-b86c-116ece8e6924",
   "metadata": {},
   "source": [
    "<h1 align=\"center\"><b>Лабораторная работа 3</b></h1>\n",
    "\n",
    "## **Цель:** изучить базовые конструкции Python."
   ]
  },
  {
   "cell_type": "markdown",
   "id": "04dc08a9-fbc0-421b-a8c5-6416d64dd6d8",
   "metadata": {},
   "source": [
    "**Зададание 1:** Пройдитесь по приведенной ниже строке и, если длина слова четная, выведите \n",
    "«четный!»"
   ]
  },
  {
   "cell_type": "code",
   "execution_count": 9,
   "id": "223695ae-2ffa-4d13-aac0-15491d4daa69",
   "metadata": {},
   "outputs": [
    {
     "name": "stdout",
     "output_type": "stream",
     "text": [
      "Выведите \n",
      "каждое \n",
      "этом \n",
      "предложении, \n",
      "четное \n",
      "количество \n",
      "букв \n"
     ]
    }
   ],
   "source": [
    "st = 'Выведите каждое слово в этом предложении, имеющее четное количество букв' \n",
    "string = st.split()\n",
    "\n",
    "for substr in string:\n",
    "    if (len(substr) % 2 == 0):\n",
    "        print(f\"{substr} \")"
   ]
  },
  {
   "cell_type": "markdown",
   "id": "cad39c2f-5931-44bf-8097-be6a2f234d43",
   "metadata": {},
   "source": [
    "**Зададание 2:** Используйте списковое включение, чтобы создать список всех чисел от 1 до 50, \n",
    "которые делятся на 3. "
   ]
  },
  {
   "cell_type": "code",
   "execution_count": 11,
   "id": "3df3b619-7e6b-4385-878b-008f34c3190a",
   "metadata": {},
   "outputs": [
    {
     "name": "stdout",
     "output_type": "stream",
     "text": [
      "Числа от 1 до 50, делящиеся на 3: [3, 6, 9, 12, 15, 18, 21, 24, 27, 30, 33, 36, 39, 42, 45, 48]\n"
     ]
    }
   ],
   "source": [
    "numbers = []\n",
    "for digit in range(1, 51):\n",
    "    if (digit % 3 == 0):\n",
    "        numbers.append(digit)\n",
    "print(f\"Числа от 1 до 50, делящиеся на 3: {numbers}\")"
   ]
  },
  {
   "cell_type": "markdown",
   "id": "60788be0-00a3-4752-a637-58d58646b05c",
   "metadata": {},
   "source": [
    "**Зададание 3:** Напишите программу, которая печатает целые числа от 1 до 100. Но для чисел, \n",
    "кратных трем, вместо числа печатайте «Fizz», а для кратных пяти – «Buzz». Для чисел, \n",
    "кратных как трем, так и пяти, выведите «FizzBuzz». "
   ]
  },
  {
   "cell_type": "code",
   "execution_count": 13,
   "id": "caa56e0b-f14b-4c62-a654-1ef85ef2e6f9",
   "metadata": {
    "collapsed": true,
    "jupyter": {
     "outputs_hidden": true
    },
    "scrolled": true
   },
   "outputs": [
    {
     "name": "stdout",
     "output_type": "stream",
     "text": [
      "3 - Fizz\n",
      "5 - Buzz\n",
      "6 - Fizz\n",
      "9 - Fizz\n",
      "10 - Buzz\n",
      "12 - Fizz\n",
      "15 - Fizz\n",
      "15 - Buzz\n",
      "15 - FizzBuzz\n",
      "18 - Fizz\n",
      "20 - Buzz\n",
      "21 - Fizz\n",
      "24 - Fizz\n",
      "25 - Buzz\n",
      "27 - Fizz\n",
      "30 - Fizz\n",
      "30 - Buzz\n",
      "30 - FizzBuzz\n",
      "33 - Fizz\n",
      "35 - Buzz\n",
      "36 - Fizz\n",
      "39 - Fizz\n",
      "40 - Buzz\n",
      "42 - Fizz\n",
      "45 - Fizz\n",
      "45 - Buzz\n",
      "45 - FizzBuzz\n",
      "48 - Fizz\n",
      "50 - Buzz\n",
      "51 - Fizz\n",
      "54 - Fizz\n",
      "55 - Buzz\n",
      "57 - Fizz\n",
      "60 - Fizz\n",
      "60 - Buzz\n",
      "60 - FizzBuzz\n",
      "63 - Fizz\n",
      "65 - Buzz\n",
      "66 - Fizz\n",
      "69 - Fizz\n",
      "70 - Buzz\n",
      "72 - Fizz\n",
      "75 - Fizz\n",
      "75 - Buzz\n",
      "75 - FizzBuzz\n",
      "78 - Fizz\n",
      "80 - Buzz\n",
      "81 - Fizz\n",
      "84 - Fizz\n",
      "85 - Buzz\n",
      "87 - Fizz\n",
      "90 - Fizz\n",
      "90 - Buzz\n",
      "90 - FizzBuzz\n",
      "93 - Fizz\n",
      "95 - Buzz\n",
      "96 - Fizz\n",
      "99 - Fizz\n",
      "100 - Buzz\n"
     ]
    }
   ],
   "source": [
    "for digit in  range(1,101):\n",
    "    if (digit % 3 == 0):\n",
    "        print(f\"{digit} - Fizz\")\n",
    "    if (digit % 5 == 0):\n",
    "        print(f\"{digit} - Buzz\")\n",
    "    if (digit % 15 == 0):\n",
    "        print(f\"{digit} - FizzBuzz\")  "
   ]
  },
  {
   "cell_type": "markdown",
   "id": "f682d108-82d6-451f-af01-3e7f6845b90f",
   "metadata": {},
   "source": [
    "**Зададание 4:** Напишите программу, которая выбирает случайное целое число от 1 до 100 и \n",
    "предлагает игрокам угадать число. Правила таковы:  \n",
    "1) Если предположение игрока меньше 1 или больше 100, вывести «Вне границы».  \n",
    "2) На первом ходу игрока, если его предположение:  - окажется в пределах 10 от загаданного числа числа вернуть \"Тепло!\";  - отличается от загаданного числа более чем на 10, вернуть \"Холодно!\".  \n",
    "3) На всех последующих ходах, если догадка:  - ближе к числу, чем предыдущее предположение, вернуть \"Теплее!\";  - дальше от числа, чем предыдущее предположение, вернуть «Холоднее!».  \n",
    "4) Когда догадка игрока сравняется с числом, скажите ему, что он угадал правильно, и \n",
    "за сколько попыток он угадал.  \n",
    "Примечание: random.randint(a,b) возвращает случайное целое число в диапазоне [a, b], \n",
    "включая обе конечные точки.  \n",
    "Для этого нужно импортировать модуль random"
   ]
  },
  {
   "cell_type": "code",
   "execution_count": 3,
   "id": "267dd4e2-41ef-4bc8-b3ef-18ca192dc859",
   "metadata": {
    "collapsed": true,
    "jupyter": {
     "outputs_hidden": true
    }
   },
   "outputs": [
    {
     "name": "stdout",
     "output_type": "stream",
     "text": [
      "Угадайте число от 1 до 100!\n"
     ]
    },
    {
     "name": "stdin",
     "output_type": "stream",
     "text": [
      "Ваше предположение:  50\n"
     ]
    },
    {
     "name": "stdout",
     "output_type": "stream",
     "text": [
      "Холодно!\n"
     ]
    },
    {
     "name": "stdin",
     "output_type": "stream",
     "text": [
      "Ваше предположение:  75\n"
     ]
    },
    {
     "name": "stdout",
     "output_type": "stream",
     "text": [
      "Холоднее!\n"
     ]
    },
    {
     "name": "stdin",
     "output_type": "stream",
     "text": [
      "Ваше предположение:  25\n"
     ]
    },
    {
     "name": "stdout",
     "output_type": "stream",
     "text": [
      "Теплее!\n"
     ]
    },
    {
     "name": "stdin",
     "output_type": "stream",
     "text": [
      "Ваше предположение:  37\n"
     ]
    },
    {
     "name": "stdout",
     "output_type": "stream",
     "text": [
      "Холоднее!\n"
     ]
    },
    {
     "name": "stdin",
     "output_type": "stream",
     "text": [
      "Ваше предположение:  13\n"
     ]
    },
    {
     "name": "stdout",
     "output_type": "stream",
     "text": [
      "Теплее!\n"
     ]
    },
    {
     "name": "stdin",
     "output_type": "stream",
     "text": [
      "Ваше предположение:  6\n"
     ]
    },
    {
     "name": "stdout",
     "output_type": "stream",
     "text": [
      "Поздравляем! Вы угадали число за 6 попыток!\n"
     ]
    }
   ],
   "source": [
    "import random\n",
    "\n",
    "number = random.randint(1, 100)\n",
    "attempts = 0\n",
    "previous_guess = None\n",
    "\n",
    "print(\"Угадайте число от 1 до 100!\")\n",
    "\n",
    "while True:\n",
    "    try:\n",
    "        guess = int(input(\"Ваше предположение: \"))\n",
    "        attempts += 1\n",
    "        \n",
    "        if guess < 1 or guess > 100:\n",
    "            print(\"Вне границы\")\n",
    "            continue\n",
    "            \n",
    "        if guess == number:\n",
    "            print(f\"Поздравляем! Вы угадали число за {attempts} попыток!\")\n",
    "            break\n",
    "            \n",
    "        if attempts == 1:\n",
    "            # Первая попытка\n",
    "            if abs(guess - number) <= 10:\n",
    "                print(\"Тепло!\")\n",
    "            else:\n",
    "                print(\"Холодно!\")\n",
    "        else:\n",
    "            # Последующие попытки\n",
    "            current_diff = abs(guess - number)\n",
    "            previous_diff = abs(previous_guess - number)\n",
    "            \n",
    "            if current_diff < previous_diff:\n",
    "                print(\"Теплее!\")\n",
    "            else:\n",
    "                print(\"Холоднее!\")\n",
    "        \n",
    "        previous_guess = guess\n",
    "        \n",
    "    except ValueError:\n",
    "        print(\"Пожалуйста, введите целое число!\")"
   ]
  },
  {
   "cell_type": "markdown",
   "id": "be0462c4-4922-4dec-9631-5e28d287428b",
   "metadata": {},
   "source": [
    "**Зададание 5:** \n",
    "Разработайте программу, запрашивающую у пользователя букву латинского \n",
    "алфавита. Если введенная буква входит в следующий список (a, e, i, o или u), необходимо \n",
    "вывести сообщение о том, что эта буква гласная. Если была введена буква y, программа \n",
    "должна написать, что эта буква может быть как гласной, так и согласной. Во всех других \n",
    "случаях должно выводиться сообщение о том, что введена согласная буква.  "
   ]
  },
  {
   "cell_type": "code",
   "execution_count": 6,
   "id": "fb70538d-c273-4479-8f30-a875f2a37d9a",
   "metadata": {},
   "outputs": [
    {
     "name": "stdout",
     "output_type": "stream",
     "text": [
      "Буква 'a': эта буква гласная\n",
      "Буква 'y': эта буква может быть как гласной, так и согласной\n",
      "Буква 'b': эта буква согласная\n"
     ]
    }
   ],
   "source": [
    "def check_letter(letter):\n",
    "    letter = letter.lower()\n",
    "    if len(letter) != 1 or not letter.isalpha():\n",
    "        print(\"Пожалуйста, введите одну букву!\")\n",
    "    elif letter in ['a', 'e', 'i', 'o', 'u']:\n",
    "        print(f\"Буква '{letter}': эта буква гласная\")\n",
    "    elif letter == 'y':\n",
    "        print(f\"Буква '{letter}': эта буква может быть как гласной, так и согласной\")\n",
    "    else:\n",
    "        print(f\"Буква '{letter}': эта буква согласная\")\n",
    "\n",
    "check_letter('a')\n",
    "check_letter('y')\n",
    "check_letter('b')"
   ]
  },
  {
   "cell_type": "markdown",
   "id": "6f61cd6b-307f-415c-9636-0ac7743d15a5",
   "metadata": {},
   "source": [
    "**Зададание 6:** Количество дней в месяце варьируется от 28 до 31. Очередная ваша программа \n",
    "должна запрашивать у пользователя название месяца и отображать количество дней в нем. \n",
    "Поскольку годы мы не учитываем, для февраля можно вывести сообщение о том, что этот \n",
    "месяц может состоять как из 28, так и из 29 дней, чтобы учесть фактор високосного года.  "
   ]
  },
  {
   "cell_type": "code",
   "execution_count": 4,
   "id": "5c7b984d-0c2e-4cc1-b0c2-9ac96feb1cd8",
   "metadata": {},
   "outputs": [
    {
     "name": "stdout",
     "output_type": "stream",
     "text": [
      "В месяце март 31 день\n",
      "В месяце июнь 30 дней\n",
      "В месяце февраль может быть 28 или 29 дней (в високосный год)\n",
      "Неверное название месяца!\n"
     ]
    }
   ],
   "source": [
    "months_31 = ['январь', 'март', 'май', 'июль', 'август', 'октябрь', 'декабрь']\n",
    "months_30 = ['апрель', 'июнь', 'сентябрь', 'ноябрь']\n",
    "\n",
    "def check_month(month):\n",
    "    if month in months_31:\n",
    "        print(f\"В месяце {month} 31 день\")\n",
    "    elif month in months_30:\n",
    "        print(f\"В месяце {month} 30 дней\")\n",
    "    elif month == 'февраль':\n",
    "        print(\"В месяце февраль может быть 28 или 29 дней (в високосный год)\")\n",
    "    else:\n",
    "        print(\"Неверное название месяца!\")\n",
    "\n",
    "check_month('март')\n",
    "check_month('июнь')\n",
    "check_month('февраль')\n",
    "check_month('something wrong :)')"
   ]
  },
  {
   "cell_type": "markdown",
   "id": "bc9fe241-512d-45e4-b59f-35e4f77bf050",
   "metadata": {},
   "source": [
    "**Зададание 7:** Напишите программу, запрашивающую у пользователя дату его рождения и \n",
    "выводящую на экран соответствующий знак зодиака."
   ]
  },
  {
   "cell_type": "code",
   "execution_count": 7,
   "id": "b505bc5b-deeb-4431-a17e-aaec4dbeca58",
   "metadata": {},
   "outputs": [
    {
     "name": "stdin",
     "output_type": "stream",
     "text": [
      "Введите день рождения:  18\n",
      "Введите месяц рождения:  3\n"
     ]
    },
    {
     "name": "stdout",
     "output_type": "stream",
     "text": [
      "Ваш знак зодиака: Рыбы\n"
     ]
    }
   ],
   "source": [
    "try:\n",
    "    day = int(input(\"Введите день рождения: \"))\n",
    "    month = int(input(\"Введите месяц рождения: \"))\n",
    "\n",
    "    # an extra brunch?) no, you must have imagined it\n",
    "    if (month == 3 and day >= 21) or (month == 4 and day <= 19):\n",
    "        print(\"Ваш знак зодиака: Овен\")\n",
    "    elif (month == 4 and day >= 20) or (month == 5 and day <= 20):\n",
    "        print(\"Ваш знак зодиака: Телец\")\n",
    "    elif (month == 5 and day >= 21) or (month == 6 and day <= 20):\n",
    "        print(\"Ваш знак зодиака: Близнецы\")\n",
    "    elif (month == 6 and day >= 21) or (month == 7 and day <= 22):\n",
    "        print(\"Ваш знак зодиака: Рак\")\n",
    "    elif (month == 7 and day >= 23) or (month == 8 and day <= 22):\n",
    "        print(\"Ваш знак зодиака: Лев\")\n",
    "    elif (month == 8 and day >= 23) or (month == 9 and day <= 22):\n",
    "        print(\"Ваш знак зодиака: Дева\")\n",
    "    elif (month == 9 and day >= 23) or (month == 10 and day <= 22):\n",
    "        print(\"Ваш знак зодиака: Весы\")\n",
    "    elif (month == 10 and day >= 23) or (month == 11 and day <= 21):\n",
    "        print(\"Ваш знак зодиака: Скорпион\")\n",
    "    elif (month == 11 and day >= 22) or (month == 12 and day <= 21):\n",
    "        print(\"Ваш знак зодиака: Стрелец\")\n",
    "    elif (month == 12 and day >= 22) or (month == 1 and day <= 19):\n",
    "        print(\"Ваш знак зодиака: Козерог\")\n",
    "    elif (month == 1 and day >= 20) or (month == 2 and day <= 18):\n",
    "        print(\"Ваш знак зодиака: Водолей\")\n",
    "    elif (month == 2 and day >= 19) or (month == 3 and day <= 20):\n",
    "        print(\"Ваш знак зодиака: Рыбы\")\n",
    "    else:\n",
    "        print(\"Неверная дата!\")\n",
    "\n",
    "except ValueError:\n",
    "    print(\"Пожалуйста, введите корректные числа!\")"
   ]
  },
  {
   "cell_type": "markdown",
   "id": "4fe274ef-d85e-45c1-a518-a33fd18ff8f9",
   "metadata": {},
   "source": [
    "**Зададание 8:** Строка называется палиндромом, если она пишется одинаково в обоих \n",
    "направлениях. Например, палиндромами в английском языке являются слова «anna», \n",
    "«civic», «level», «hannah». Напишите программу, запрашивающую у пользователя строку и \n",
    "при помощи цикла определяющую, является ли она палиндромом."
   ]
  },
  {
   "cell_type": "code",
   "execution_count": 9,
   "id": "d108f5ab-32a0-4391-a546-d08609821ec2",
   "metadata": {},
   "outputs": [
    {
     "name": "stdout",
     "output_type": "stream",
     "text": [
      "Cтрока anna является палиндромом!\n",
      "Cтрока civic является палиндромом!\n",
      "Cтрока level является палиндромом!\n",
      "Cтрока wrong не является палиндромом!\n"
     ]
    }
   ],
   "source": [
    "def poli(candidate):\n",
    "    is_palindrome = True\n",
    "    n = len(candidate)\n",
    "    \n",
    "    for i in range(n // 2):\n",
    "        if candidate[i] != candidate[n - i - 1]:\n",
    "            is_palindrome = False\n",
    "            break\n",
    "    \n",
    "    if is_palindrome:\n",
    "        print(f\"Cтрока {candidate} является палиндромом!\")\n",
    "    else:\n",
    "        print(f\"Cтрока {candidate} не является палиндромом!\")\n",
    "\n",
    "poli('anna')\n",
    "poli('civic')\n",
    "poli('level')\n",
    "poli('wrong')"
   ]
  }
 ],
 "metadata": {
  "kernelspec": {
   "display_name": "Python 3 (ipykernel)",
   "language": "python",
   "name": "python3"
  },
  "language_info": {
   "codemirror_mode": {
    "name": "ipython",
    "version": 3
   },
   "file_extension": ".py",
   "mimetype": "text/x-python",
   "name": "python",
   "nbconvert_exporter": "python",
   "pygments_lexer": "ipython3",
   "version": "3.12.2"
  }
 },
 "nbformat": 4,
 "nbformat_minor": 5
}
