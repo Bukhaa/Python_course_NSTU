{
 "cells": [
  {
   "cell_type": "markdown",
   "id": "d07be7b4-77b2-4733-8009-8402fa6d0dd2",
   "metadata": {},
   "source": [
    "<h1 align=\"center\"><b>Лабораторная работа 4</b></h1>\n",
    "\n",
    "## **Цель:** изучить встроенные методы и способы создания функций в Python.  "
   ]
  },
  {
   "cell_type": "markdown",
   "id": "e1cef725-eda6-493f-beb8-0e2624832791",
   "metadata": {},
   "source": [
    "**Зададание 1:** Напишите функцию, которая возвращает меньшее из двух заданных чисел, если оба \n",
    "числа четные, и большее, если одно или оба числа нечетные:  \n",
    "**lesser_of_two_evens(2,4) --> 2**  \n",
    "**lesser_of_two_evens(2,5) --> 5**"
   ]
  },
  {
   "cell_type": "code",
   "execution_count": 7,
   "id": "afa4e4fb-c685-491f-a1fb-a8e29298ccd7",
   "metadata": {},
   "outputs": [
    {
     "name": "stdout",
     "output_type": "stream",
     "text": [
      "test 1: 2\n",
      "test 2: 5\n",
      "test 3: 27\n"
     ]
    }
   ],
   "source": [
    "def foo(a, b):\n",
    "    if (a % 2 == 0 and b % 2 == 0):\n",
    "        return min(a,b)\n",
    "    else:\n",
    "        return max(a,b)\n",
    "\n",
    "print(f\"test 1: {foo(2, 4)}\")\n",
    "print(f\"test 2: {foo(2, 5)}\")\n",
    "print(f\"test 3: {foo(27, 5)}\")"
   ]
  },
  {
   "cell_type": "markdown",
   "id": "d0c88d22-46de-426f-a8da-c20fb4778e6e",
   "metadata": {},
   "source": [
    "**Зададание 2:** Напишите функцию, которая принимает строку из двух слов и возвращает True, если \n",
    "оба слова начинаются с одной и той же буквы:\n",
    "animal_crackers('Levelheaded Llama') --> True  \n",
    "animal_crackers('Crazy Kangaroo') --> False  "
   ]
  },
  {
   "cell_type": "code",
   "execution_count": 11,
   "id": "638df413-34d6-406d-86c5-9fe8f796dcf1",
   "metadata": {},
   "outputs": [
    {
     "name": "stdout",
     "output_type": "stream",
     "text": [
      "test 1: True\n",
      "test 2: False\n",
      "test 3: True\n",
      "test 4: False\n"
     ]
    }
   ],
   "source": [
    "def good_words(text):\n",
    "    words = text.split()\n",
    "    if len(words) < 2:\n",
    "        return False\n",
    "    return words[0][0] == words[1][0]\n",
    "\n",
    "print(f\"test 1: {good_words('apple aply')}\")\n",
    "print(f\"test 2: {good_words('good bad')}\")\n",
    "print(f\"test 3: {good_words('Levelheaded Llama')}\")\n",
    "print(f\"test 4: {good_words('Crazy Kangaroo')}\")"
   ]
  },
  {
   "cell_type": "markdown",
   "id": "2d17b25e-6dfe-4d22-b831-b6ffcbf0755f",
   "metadata": {},
   "source": [
    "**Зададание 3:** Верните предложение со словами в обратном порядке:  \n",
    "master_yoda('I am home') --> 'home am I'  \n",
    "master_yoda('We are ready') --> 'ready are We' "
   ]
  },
  {
   "cell_type": "code",
   "execution_count": 13,
   "id": "a437e36a-5cac-423d-8f40-8cc1a6726543",
   "metadata": {},
   "outputs": [
    {
     "name": "stdout",
     "output_type": "stream",
     "text": [
      "master_yoda('I am home') = 'home am I'\n",
      "master_yoda('We are ready') = 'ready are We'\n",
      "master_yoda('Programming is fun') = 'fun is Programming'\n"
     ]
    }
   ],
   "source": [
    "def master_yoda(text):\n",
    "    words = text.split()\n",
    "    return ' '.join(words[::-1])\n",
    "\n",
    "print(f\"master_yoda('I am home') = '{master_yoda('I am home')}'\")\n",
    "print(f\"master_yoda('We are ready') = '{master_yoda('We are ready')}'\")\n",
    "print(f\"master_yoda('Programming is fun') = '{master_yoda('Programming is fun')}'\")"
   ]
  },
  {
   "cell_type": "markdown",
   "id": "4da35abb-8113-4da7-8dbf-f9c8768fc617",
   "metadata": {},
   "source": [
    "**Зададание 4:** Учитывая список целых чисел, верните True, если в массиве есть тройки, стоящие \n",
    "рядом.  \n",
    "has_33([1, 3, 3]) → True  \n",
    "has_33([1, 3, 1, 3]) → False  \n",
    "has_33([3, 1, 3]) → False "
   ]
  },
  {
   "cell_type": "code",
   "execution_count": 15,
   "id": "512b80bc-3dbc-4c6e-abcf-27dc40068ac1",
   "metadata": {},
   "outputs": [
    {
     "name": "stdout",
     "output_type": "stream",
     "text": [
      "has_33([1, 3, 3]) = True\n",
      "has_33([1, 3, 1, 3]) = False\n",
      "has_33([3, 1, 3]) = False\n",
      "has_33([3, 3, 1]) = True\n"
     ]
    }
   ],
   "source": [
    "def has_33(nums):\n",
    "    for i in range(len(nums) - 1):\n",
    "        if nums[i] == 3 and nums[i + 1] == 3:\n",
    "            return True\n",
    "    return False\n",
    "\n",
    "print(f\"has_33([1, 3, 3]) = {has_33([1, 3, 3])}\")\n",
    "print(f\"has_33([1, 3, 1, 3]) = {has_33([1, 3, 1, 3])}\")\n",
    "print(f\"has_33([3, 1, 3]) = {has_33([3, 1, 3])}\")\n",
    "print(f\"has_33([3, 3, 1]) = {has_33([3, 3, 1])}\")"
   ]
  },
  {
   "cell_type": "markdown",
   "id": "37157a66-e53d-44b7-92ca-279385a4ece3",
   "metadata": {},
   "source": [
    "**Зададание 5:** Даны три целых числа от 1 до 11, если их сумма меньше или равна 21, вернуть их \n",
    "сумму. Если их сумма превышает 21, и есть 11, уменьшите общую сумму на 10. Наконец, \n",
    "если сумма превышает 21, верните 'BUST'.  \n",
    "blackjack(5,6,7) --> 18  \n",
    "blackjack(9,9,9) --> 'BUST'  \n",
    "blackjack(9,9,11) --> 19"
   ]
  },
  {
   "cell_type": "code",
   "execution_count": 17,
   "id": "185cb031-919a-4686-b7d4-332396814564",
   "metadata": {},
   "outputs": [
    {
     "name": "stdout",
     "output_type": "stream",
     "text": [
      "blackjack(5,6,7) = 18\n",
      "blackjack(9,9,9) = BUST\n",
      "blackjack(9,9,11) = 19\n",
      "blackjack(11,11,11) = BUST\n"
     ]
    }
   ],
   "source": [
    "def blackjack(a, b, c):\n",
    "    total = a + b + c\n",
    "    if total <= 21:\n",
    "        return total\n",
    "    elif 11 in [a, b, c]:\n",
    "        total -= 10\n",
    "        return total if total <= 21 else 'BUST'\n",
    "    else:\n",
    "        return 'BUST'\n",
    "\n",
    "print(f\"blackjack(5,6,7) = {blackjack(5,6,7)}\")\n",
    "print(f\"blackjack(9,9,9) = {blackjack(9,9,9)}\")\n",
    "print(f\"blackjack(9,9,11) = {blackjack(9,9,11)}\")\n",
    "print(f\"blackjack(11,11,11) = {blackjack(11,11,11)}\")"
   ]
  },
  {
   "cell_type": "markdown",
   "id": "8c4d95cd-0b85-41ca-b42f-09c4f9b03e1b",
   "metadata": {},
   "source": [
    "**Зададание 6:** Напишите функцию, которая возвращает количество простых чисел, которые \n",
    "существуют до заданного числа включительно.  \n",
    "count_primes(100) --> 25"
   ]
  },
  {
   "cell_type": "code",
   "execution_count": 20,
   "id": "4b43f52a-b21f-456a-9890-1f638a529865",
   "metadata": {},
   "outputs": [
    {
     "name": "stdout",
     "output_type": "stream",
     "text": [
      "count_primes(10) = 4\n",
      "count_primes(50) = 15\n",
      "count_primes(100) = 25\n"
     ]
    }
   ],
   "source": [
    "def count_primes(num):\n",
    "    if num < 2:\n",
    "        return 0\n",
    "    \n",
    "    primes = [2]\n",
    "    for number in range(3, num + 1, 2):\n",
    "        is_prime = True\n",
    "        for prime in primes:\n",
    "            if prime * prime > number:\n",
    "                break\n",
    "            if number % prime == 0:\n",
    "                is_prime = False\n",
    "                break\n",
    "        if is_prime:\n",
    "            primes.append(number)\n",
    "    \n",
    "    return len(primes)\n",
    "\n",
    "print(f\"count_primes(10) = {count_primes(10)}\")\n",
    "print(f\"count_primes(50) = {count_primes(50)}\")\n",
    "print(f\"count_primes(100) = {count_primes(100)}\")"
   ]
  },
  {
   "cell_type": "markdown",
   "id": "e97eb714-8147-4fe2-b882-ef2ecfd84531",
   "metadata": {},
   "source": [
    "**Зададание 7:** Напишите функцию, которая принимает строку и вычисляет количество прописных и \n",
    "строчных букв.  \n",
    "Sample String : 'Hello Mr. Rogers, how are you this fine Tuesday?'  \n",
    "Expected Output :  \n",
    "No. of Upper case characters : 4  \n",
    "No. of Lower case Characters : 33"
   ]
  },
  {
   "cell_type": "code",
   "execution_count": 21,
   "id": "88996ec8-8492-4314-b312-95d6a6010a8e",
   "metadata": {},
   "outputs": [
    {
     "name": "stdout",
     "output_type": "stream",
     "text": [
      "Sample String: 'Hello Mr. Rogers, how are you this fine Tuesday?'\n",
      "No. of Upper case characters: 4\n",
      "No. of Lower case characters: 33\n"
     ]
    }
   ],
   "source": [
    "def count_case(text):\n",
    "    upper_count = 0\n",
    "    lower_count = 0\n",
    "    \n",
    "    for char in text:\n",
    "        if char.isupper():\n",
    "            upper_count += 1\n",
    "        elif char.islower():\n",
    "            lower_count += 1\n",
    "    \n",
    "    return upper_count, lower_count\n",
    "\n",
    "sample_string = 'Hello Mr. Rogers, how are you this fine Tuesday?'\n",
    "upper, lower = count_case(sample_string)\n",
    "print(f\"Sample String: '{sample_string}'\")\n",
    "print(f\"No. of Upper case characters: {upper}\")\n",
    "print(f\"No. of Lower case characters: {lower}\")"
   ]
  },
  {
   "cell_type": "markdown",
   "id": "7490943b-c6c3-4cb1-a017-c5c88dba8ee9",
   "metadata": {},
   "source": [
    "**Зададание 8:** Напишите функцию, чтобы проверить, является ли строка панграммой или нет. \n",
    "(Предположим, что переданная строка не имеет пунктуации).  \n",
    "Примечание. Панграммы – это слова или предложения, содержащие каждую букву \n",
    "алфавита хотя бы один раз.  \n",
    "Например : \"The quick brown fox jumps over the lazy dog\""
   ]
  },
  {
   "cell_type": "code",
   "execution_count": 22,
   "id": "8382b1ba-4923-4de2-8681-5bb225b14631",
   "metadata": {},
   "outputs": [
    {
     "name": "stdout",
     "output_type": "stream",
     "text": [
      "is_pangram('The quick brown fox jumps over the lazy dog') = True\n",
      "is_pangram('Hello world') = False\n"
     ]
    }
   ],
   "source": [
    "def is_pangram(text):\n",
    "    alphabet = set('abcdefghijklmnopqrstuvwxyz')\n",
    "    text_chars = set(text.lower())\n",
    "    return alphabet.issubset(text_chars)\n",
    "\n",
    "pangram1 = \"The quick brown fox jumps over the lazy dog\"\n",
    "pangram2 = \"Hello world\"\n",
    "print(f\"is_pangram('{pangram1}') = {is_pangram(pangram1)}\")\n",
    "print(f\"is_pangram('{pangram2}') = {is_pangram(pangram2)}\")"
   ]
  },
  {
   "cell_type": "markdown",
   "id": "c4c0497a-6efa-4171-8895-dfb55f42c0f2",
   "metadata": {},
   "source": [
    "**Зададание 9:** Реализуйте функцию get_hidden_card(), которая принимает на вход номер кредитки \n",
    "(состоящий из 16 цифр) в виде строки и возвращает его скрытую версию, которая может \n",
    "использоваться на сайте для отображения. Если исходная карта имела номер \n",
    "2034399002125581, то скрытая версия выглядит так ****5581. Другими словами, функция \n",
    "заменяет первые 12 символов, на звездочки. Количество звездочек регулируется вторым \n",
    "необязательным параметром. Значение по умолчанию – 4.  \n",
    "Кредитка передается внутрь как строка  \n",
    "get_hidden_card('2034399002121100', 1) # \"*1100\"  \n",
    "get_hidden_card('1234567812345678', 2) # \"**5678\"  \n",
    "get_hidden_card('1234567812345678', 3) # \"***5678\"  \n",
    "get_hidden_card('1234567812345678') # \"****5678\" "
   ]
  },
  {
   "cell_type": "code",
   "execution_count": 23,
   "id": "797d7bd5-1db6-4a95-9cd5-b5bdd326af1f",
   "metadata": {},
   "outputs": [
    {
     "name": "stdout",
     "output_type": "stream",
     "text": [
      "get_hidden_card('2034399002125581') = ****5581\n",
      "get_hidden_card('2034399002121100', 1) = *1100\n",
      "get_hidden_card('1234567812345678', 2) = **5678\n",
      "get_hidden_card('1234567812345678', 3) = ***5678\n"
     ]
    }
   ],
   "source": [
    "def get_hidden_card(card_number, stars=4):\n",
    "    if len(card_number) != 16 or not card_number.isdigit():\n",
    "        return \"Неверный номер карты\"\n",
    "    return '*' * stars + card_number[-4:]\n",
    "\n",
    "print(f\"get_hidden_card('2034399002125581') = {get_hidden_card('2034399002125581')}\")\n",
    "print(f\"get_hidden_card('2034399002121100', 1) = {get_hidden_card('2034399002121100', 1)}\")\n",
    "print(f\"get_hidden_card('1234567812345678', 2) = {get_hidden_card('1234567812345678', 2)}\")\n",
    "print(f\"get_hidden_card('1234567812345678', 3) = {get_hidden_card('1234567812345678', 3)}\")"
   ]
  }
 ],
 "metadata": {
  "kernelspec": {
   "display_name": "Python 3 (ipykernel)",
   "language": "python",
   "name": "python3"
  },
  "language_info": {
   "codemirror_mode": {
    "name": "ipython",
    "version": 3
   },
   "file_extension": ".py",
   "mimetype": "text/x-python",
   "name": "python",
   "nbconvert_exporter": "python",
   "pygments_lexer": "ipython3",
   "version": "3.12.2"
  }
 },
 "nbformat": 4,
 "nbformat_minor": 5
}
