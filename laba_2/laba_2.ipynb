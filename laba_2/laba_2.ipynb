{
 "cells": [
  {
   "cell_type": "markdown",
   "id": "883d1d3c-4745-4dba-9940-3b1e13fc9706",
   "metadata": {},
   "source": [
    "<h1 align=\"center\"><b>Лабораторная работа 2</b></h1>\n",
    "\n",
    "## **Цель:** познакомиться с различными типами и структурами данных Python. "
   ]
  },
  {
   "cell_type": "markdown",
   "id": "0e7df1d4-2595-4afd-ae3a-8ea609a8663a",
   "metadata": {},
   "source": [
    "**Зададание 1:**\n",
    "Напишите уравнение, в котором используются умножение, деление, показатель степени, сложение и вычитание, равное 160,25."
   ]
  },
  {
   "cell_type": "code",
   "execution_count": 1,
   "id": "abe5f757-13f6-43f3-9be3-5553fdd9f909",
   "metadata": {},
   "outputs": [
    {
     "name": "stdout",
     "output_type": "stream",
     "text": [
      "Результат уравнения: 160.25\n"
     ]
    }
   ],
   "source": [
    "result = (10 ** 3) / 10 + 2*30 + 0.25\n",
    "print(f\"Результат уравнения: {result}\")"
   ]
  },
  {
   "cell_type": "markdown",
   "id": "8df60f08-7fd2-48b3-beaf-bd6c69e5b14b",
   "metadata": {},
   "source": [
    "**Зададание 2:** Дана строка s = 'hello'.\n",
    "1) Выведете букву 'e', используя индексацию.    \n",
    "2) Переверните строку, используя нарезку.  \n",
    "3) Для строки укажите два способа получения буквы 'o' с помощью индексации. "
   ]
  },
  {
   "cell_type": "code",
   "execution_count": 2,
   "id": "767711d4-ad6a-425b-b8bf-a2e25a275ea4",
   "metadata": {},
   "outputs": [
    {
     "name": "stdout",
     "output_type": "stream",
     "text": [
      "Буква 'e': e\n"
     ]
    }
   ],
   "source": [
    "s = 'hello'\n",
    "print(f\"Буква 'e': {s[1]}\")"
   ]
  },
  {
   "cell_type": "code",
   "execution_count": 3,
   "id": "8be85018-fc74-4fe3-8b83-1a5a4a0fd624",
   "metadata": {},
   "outputs": [
    {
     "name": "stdout",
     "output_type": "stream",
     "text": [
      "Перевернутая строка: olleh\n"
     ]
    }
   ],
   "source": [
    "print(f\"Перевернутая строка: {s[::-1]}\")"
   ]
  },
  {
   "cell_type": "code",
   "execution_count": 4,
   "id": "bf53a1d3-8e10-4405-82c5-a021a9e15e9e",
   "metadata": {},
   "outputs": [
    {
     "name": "stdout",
     "output_type": "stream",
     "text": [
      "Буква 'o' способ 1: o\n",
      "Буква 'o' способ 2: o\n"
     ]
    }
   ],
   "source": [
    "print(f\"Буква 'o' способ 1: {s[4]}\")\n",
    "print(f\"Буква 'o' способ 2: {s[-1]}\")"
   ]
  },
  {
   "cell_type": "markdown",
   "id": "215e3ea9-7391-41fc-85f2-91b295aa0a52",
   "metadata": {},
   "source": [
    "**Зададание 3:** Напишите программу, которая выводит: \"Mother's favorite book \"Gone with the Wind\"\" "
   ]
  },
  {
   "cell_type": "code",
   "execution_count": 5,
   "id": "cc391b9e-cea0-460c-8eb8-d35772666c0e",
   "metadata": {},
   "outputs": [
    {
     "name": "stdout",
     "output_type": "stream",
     "text": [
      "Mother's favorite book \"Gone with the Wind\"\n"
     ]
    }
   ],
   "source": [
    "print(\"Mother's favorite book \\\"Gone with the Wind\\\"\")"
   ]
  },
  {
   "cell_type": "markdown",
   "id": "460a07da-61b4-4bb0-9c92-dba77a29c6ca",
   "metadata": {},
   "source": [
    "**Зададание 4:** Создайте переменную name с любым именем. Выведите две строки:  \n",
    "How are you, <name>?  \n",
    "I'm fine, thanks."
   ]
  },
  {
   "cell_type": "code",
   "execution_count": 8,
   "id": "860f28d1-1b58-43e1-88e2-413760d56145",
   "metadata": {},
   "outputs": [
    {
     "name": "stdout",
     "output_type": "stream",
     "text": [
      "How are you, Sasha?\n",
      "I'm fine, thanks.\n"
     ]
    }
   ],
   "source": [
    "name = 'Sasha'\n",
    "print(f\"How are you, {name}?\\nI'm fine, thanks.\")"
   ]
  },
  {
   "cell_type": "markdown",
   "id": "c090723b-e72a-4646-861a-6d8287cebd28",
   "metadata": {},
   "source": [
    "**Зададание 5:** Переназначьте 'hello' во вложенном списке list1 = [1,2,[3,4,'hello']], чтобы вместо этого \n",
    "было 'goodbye'."
   ]
  },
  {
   "cell_type": "code",
   "execution_count": 14,
   "id": "6e684418-6f23-43a6-a46a-47c7a4112ae6",
   "metadata": {},
   "outputs": [
    {
     "name": "stdout",
     "output_type": "stream",
     "text": [
      "Измененный список: [1, 2, [3, 4, 'goodbye']]\n"
     ]
    }
   ],
   "source": [
    "list1 = [1,2,[3,4,'hello']]\n",
    "list1[2][2] = 'goodbye'\n",
    "print(f\"Измененный список: {list1}\")"
   ]
  },
  {
   "cell_type": "markdown",
   "id": "3efecbc1-4dc4-4d25-ac13-fc661557c0b4",
   "metadata": {},
   "source": [
    "**Зададание 6:** Отсортируйте список list2 = [5,3,4,6,1] "
   ]
  },
  {
   "cell_type": "code",
   "execution_count": 13,
   "id": "12e7d58b-c307-4731-8360-4624a6d22830",
   "metadata": {},
   "outputs": [
    {
     "name": "stdout",
     "output_type": "stream",
     "text": [
      "Отсортированный список: [1, 3, 4, 5, 6]\n"
     ]
    }
   ],
   "source": [
    "list2 = [5, 3, 4, 6, 1]\n",
    "list2.sort()\n",
    "print(f\"Отсортированный список: {list2}\")"
   ]
  },
  {
   "cell_type": "markdown",
   "id": "ec8abb62-3017-445f-a34a-ea4d82ede04d",
   "metadata": {},
   "source": [
    "**Зададание 7:**  Используя ключи и индексацию, возьмите 'hello' из следующих словарей:  \n",
    "1. d = {'simple_key':'hello'}  \n",
    "2. d = {'k1':{'k2':'hello'}}  \n",
    "3. d = {'k1':[{'nest_key':['this is deep',['hello']]}]}  \n",
    "4. d = {'k1':[1,2,{'k2':['this is tricky',{'tough':[1,2,['hello']]}]}]}"
   ]
  },
  {
   "cell_type": "code",
   "execution_count": 15,
   "id": "61d575c8-9050-4d82-985c-8a77b3f3c307",
   "metadata": {},
   "outputs": [
    {
     "name": "stdout",
     "output_type": "stream",
     "text": [
      "1. hello\n",
      "2. hello\n",
      "3. hello\n",
      "4. hello\n"
     ]
    }
   ],
   "source": [
    "d1 = {'simple_key':'hello'}\n",
    "print(f\"1. {d1['simple_key']}\")\n",
    "\n",
    "d2 = {'k1':{'k2':'hello'}}\n",
    "print(f\"2. {d2['k1']['k2']}\")\n",
    "\n",
    "d3 = {'k1':[{'nest_key':['this is deep',['hello']]}]}\n",
    "print(f\"3. {d3['k1'][0]['nest_key'][1][0]}\")\n",
    "\n",
    "d4 = {'k1':[1,2,{'k2':['this is tricky',{'tough':[1,2,['hello']]}]}]}\n",
    "print(f\"4. {d4['k1'][2]['k2'][1]['tough'][2][0]}\")"
   ]
  },
  {
   "cell_type": "markdown",
   "id": "e8bdb499-cfd3-473f-af9a-b3f97ea25fc4",
   "metadata": {},
   "source": [
    "**Зададание 8:** Используйте множество, чтобы найти уникальные значения в списке list3 = \n",
    "[1,2,2,33,4,4,11,22,3,3,2]."
   ]
  },
  {
   "cell_type": "code",
   "execution_count": 17,
   "id": "9b9a4e76-756f-40c0-b1cd-4febbbcab351",
   "metadata": {},
   "outputs": [
    {
     "name": "stdout",
     "output_type": "stream",
     "text": [
      "Уникальные значения: {1, 2, 33, 4, 3, 11, 22}\n"
     ]
    }
   ],
   "source": [
    "list = [1,2,2,33,4,4,11,22,3,3,2]\n",
    "print(f\"Уникальные значения: {set(list)}\")"
   ]
  },
  {
   "cell_type": "markdown",
   "id": "34ae73a9-05e0-4441-96f3-b7ad4ba96277",
   "metadata": {},
   "source": [
    "**Зададание 9:** Напишите программу, которая берет исходное количество евро, записанное в \n",
    "переменную euros_count, переводит евро в доллары и выводит на экран. Затем полученное \n",
    "значение переводит в рубли и выводит на новой строчке. "
   ]
  },
  {
   "cell_type": "code",
   "execution_count": 18,
   "id": "f35a8e26-c556-4d87-978f-29f7a414840b",
   "metadata": {},
   "outputs": [
    {
     "name": "stdout",
     "output_type": "stream",
     "text": [
      "Евро: 100\n",
      "Доллары: 116.00\n",
      "Рубли: 9698.76\n"
     ]
    }
   ],
   "source": [
    "euros_count = 100\n",
    "dollars_count = euros_count * 1.16\n",
    "rubles_count = dollars_count * 83.61\n",
    "    \n",
    "print(f\"Евро: {euros_count}\")\n",
    "print(f\"Доллары: {dollars_count:.2f}\")\n",
    "print(f\"Рубли: {rubles_count:.2f}\")"
   ]
  },
  {
   "cell_type": "markdown",
   "id": "8f19d9fe-2c2a-456f-b139-91daecb4db8b",
   "metadata": {},
   "source": [
    "**Зададание 10:** Создайте переменную student и присвойте ей строку, содержащую фамилию, имя и \n",
    "отчество, разделенные «;». Преобразуйте ее в список с помощью метода spit() и выведите \n",
    "его на экран. Преобразуйте полученный список сначала в кортеж, а потом в множество. \n",
    "Выведите их на экран.  "
   ]
  },
  {
   "cell_type": "code",
   "execution_count": 19,
   "id": "8f84dda2-f025-4b9b-9ce1-ac80f50b7840",
   "metadata": {},
   "outputs": [
    {
     "name": "stdout",
     "output_type": "stream",
     "text": [
      "Список: ['Иванов', 'Петр', 'Сергеевич']\n",
      "Кортеж: ('Иванов', 'Петр', 'Сергеевич')\n",
      "Множество: {'Петр', 'Иванов', 'Сергеевич'}\n"
     ]
    }
   ],
   "source": [
    "student = \"Иванов;Петр;Сергеевич\"\n",
    "student_list = student.split(';')\n",
    "print(f\"Список: {student_list}\")\n",
    "    \n",
    "student_tuple = tuple(student_list)\n",
    "print(f\"Кортеж: {student_tuple}\")\n",
    "    \n",
    "student_set = set(student_list)\n",
    "print(f\"Множество: {student_set}\")"
   ]
  }
 ],
 "metadata": {
  "kernelspec": {
   "display_name": "Python 3 (ipykernel)",
   "language": "python",
   "name": "python3"
  },
  "language_info": {
   "codemirror_mode": {
    "name": "ipython",
    "version": 3
   },
   "file_extension": ".py",
   "mimetype": "text/x-python",
   "name": "python",
   "nbconvert_exporter": "python",
   "pygments_lexer": "ipython3",
   "version": "3.12.2"
  }
 },
 "nbformat": 4,
 "nbformat_minor": 5
}
