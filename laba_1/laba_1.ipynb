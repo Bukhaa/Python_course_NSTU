{
 "cells": [
  {
   "cell_type": "markdown",
   "id": "b494f1df-868d-44e2-9b59-855c30efcbef",
   "metadata": {},
   "source": [
    "<h1 align=\"center\"><b>Лабораторная работа 1</b></h1>\n",
    "\n",
    "**Цель:** Знакомство с средой jupyter notebook.\n",
    "\n",
    "**Задание 1:** Написать hello, world!"
   ]
  },
  {
   "cell_type": "code",
   "execution_count": 1,
   "id": "9ade1e02-8ec1-4c69-9c52-d73ad4ff97e3",
   "metadata": {},
   "outputs": [
    {
     "name": "stdout",
     "output_type": "stream",
     "text": [
      "Hello, world!\n"
     ]
    }
   ],
   "source": [
    "print(\"Hello, world!\")"
   ]
  }
 ],
 "metadata": {
  "kernelspec": {
   "display_name": "Python 3 (ipykernel)",
   "language": "python",
   "name": "python3"
  },
  "language_info": {
   "codemirror_mode": {
    "name": "ipython",
    "version": 3
   },
   "file_extension": ".py",
   "mimetype": "text/x-python",
   "name": "python",
   "nbconvert_exporter": "python",
   "pygments_lexer": "ipython3",
   "version": "3.12.2"
  }
 },
 "nbformat": 4,
 "nbformat_minor": 5
}
